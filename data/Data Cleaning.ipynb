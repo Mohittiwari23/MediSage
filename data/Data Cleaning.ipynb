{
 "cells": [
  {
   "cell_type": "code",
   "execution_count": 115,
   "id": "b6910919-2ca4-4fca-9217-1ee8e28d8fb2",
   "metadata": {},
   "outputs": [],
   "source": [
    "import pandas as pd"
   ]
  },
  {
   "cell_type": "code",
   "execution_count": 116,
   "id": "499dbc98-9933-41cb-ab42-72e79ac97e47",
   "metadata": {},
   "outputs": [],
   "source": [
    "df = pd.read_csv(\"indian_medicine_data.csv\")"
   ]
  },
  {
   "cell_type": "code",
   "execution_count": 117,
   "id": "3bbed286-bfb2-4de2-9c44-f1b37c2ab41e",
   "metadata": {},
   "outputs": [
    {
     "data": {
      "text/html": [
       "<div>\n",
       "<style scoped>\n",
       "    .dataframe tbody tr th:only-of-type {\n",
       "        vertical-align: middle;\n",
       "    }\n",
       "\n",
       "    .dataframe tbody tr th {\n",
       "        vertical-align: top;\n",
       "    }\n",
       "\n",
       "    .dataframe thead th {\n",
       "        text-align: right;\n",
       "    }\n",
       "</style>\n",
       "<table border=\"1\" class=\"dataframe\">\n",
       "  <thead>\n",
       "    <tr style=\"text-align: right;\">\n",
       "      <th></th>\n",
       "      <th>id</th>\n",
       "      <th>name</th>\n",
       "      <th>price</th>\n",
       "      <th>Is_discontinued</th>\n",
       "      <th>manufacturer_name</th>\n",
       "      <th>type</th>\n",
       "      <th>pack_size_label</th>\n",
       "      <th>short_composition1</th>\n",
       "      <th>short_composition2</th>\n",
       "      <th>salt_composition</th>\n",
       "      <th>medicine_desc</th>\n",
       "      <th>side_effects</th>\n",
       "      <th>drug_interactions</th>\n",
       "    </tr>\n",
       "  </thead>\n",
       "  <tbody>\n",
       "    <tr>\n",
       "      <th>0</th>\n",
       "      <td>1</td>\n",
       "      <td>Augmentin 625 Duo Tablet</td>\n",
       "      <td>223.42</td>\n",
       "      <td>False</td>\n",
       "      <td>Glaxo SmithKline Pharmaceuticals Ltd</td>\n",
       "      <td>allopathy</td>\n",
       "      <td>strip of 10 tablets</td>\n",
       "      <td>Amoxycillin  (500mg)</td>\n",
       "      <td>Clavulanic Acid (125mg)</td>\n",
       "      <td>Amoxycillin  (500mg) +  Clavulanic Acid (125mg)</td>\n",
       "      <td>Augmentin 625 Duo Tablet is a penicillin-type ...</td>\n",
       "      <td>Vomiting,Nausea,Diarrhea</td>\n",
       "      <td>{\"drug\": [], \"brand\": [], \"effect\": []}</td>\n",
       "    </tr>\n",
       "    <tr>\n",
       "      <th>1</th>\n",
       "      <td>2</td>\n",
       "      <td>Azithral 500 Tablet</td>\n",
       "      <td>132.36</td>\n",
       "      <td>False</td>\n",
       "      <td>Alembic Pharmaceuticals Ltd</td>\n",
       "      <td>allopathy</td>\n",
       "      <td>strip of 5 tablets</td>\n",
       "      <td>Azithromycin (500mg)</td>\n",
       "      <td>NaN</td>\n",
       "      <td>Azithromycin (500mg)</td>\n",
       "      <td>Azithral 500 Tablet is an antibiotic used to t...</td>\n",
       "      <td>Vomiting,Nausea,Abdominal pain,Diarrhea</td>\n",
       "      <td>{\"drug\": [\"Astemizole\", \"Ebastine\", \"Mizolasti...</td>\n",
       "    </tr>\n",
       "    <tr>\n",
       "      <th>2</th>\n",
       "      <td>3</td>\n",
       "      <td>Ascoril LS Syrup</td>\n",
       "      <td>118.00</td>\n",
       "      <td>False</td>\n",
       "      <td>Glenmark Pharmaceuticals Ltd</td>\n",
       "      <td>allopathy</td>\n",
       "      <td>bottle of 100 ml Syrup</td>\n",
       "      <td>Ambroxol (30mg/5ml)</td>\n",
       "      <td>Levosalbutamol (1mg/5ml)</td>\n",
       "      <td>Ambroxol (30mg/5ml) + Levosalbutamol (1mg/5ml)...</td>\n",
       "      <td>Ascoril LS Syrup is a combination medicine use...</td>\n",
       "      <td>Nausea,Vomiting,Diarrhea,Upset stomach,Stomach...</td>\n",
       "      <td>{\"drug\": [], \"brand\": [], \"effect\": []}</td>\n",
       "    </tr>\n",
       "    <tr>\n",
       "      <th>3</th>\n",
       "      <td>4</td>\n",
       "      <td>Allegra 120mg Tablet</td>\n",
       "      <td>218.81</td>\n",
       "      <td>False</td>\n",
       "      <td>Sanofi India  Ltd</td>\n",
       "      <td>allopathy</td>\n",
       "      <td>strip of 10 tablets</td>\n",
       "      <td>Fexofenadine (120mg)</td>\n",
       "      <td>NaN</td>\n",
       "      <td>Fexofenadine (120mg)</td>\n",
       "      <td>Allegra 120mg Tablet is an anti-allergy medici...</td>\n",
       "      <td>Headache,Drowsiness,Dizziness,Nausea</td>\n",
       "      <td>{\"drug\": [\"Aprepitant\", \"Fosaprepitant\", \"Maga...</td>\n",
       "    </tr>\n",
       "    <tr>\n",
       "      <th>4</th>\n",
       "      <td>5</td>\n",
       "      <td>Avil 25 Tablet</td>\n",
       "      <td>10.96</td>\n",
       "      <td>False</td>\n",
       "      <td>Sanofi India  Ltd</td>\n",
       "      <td>allopathy</td>\n",
       "      <td>strip of 15 tablets</td>\n",
       "      <td>Pheniramine (25mg)</td>\n",
       "      <td>NaN</td>\n",
       "      <td>Pheniramine (25mg)</td>\n",
       "      <td>Avil 25 Tablet is an antiallergic medication u...</td>\n",
       "      <td>Sleepiness</td>\n",
       "      <td>{\"drug\": [\"Zafirlukast\", \"Alprazolam\", \"Betahi...</td>\n",
       "    </tr>\n",
       "  </tbody>\n",
       "</table>\n",
       "</div>"
      ],
      "text/plain": [
       "   id                      name   price  Is_discontinued  \\\n",
       "0   1  Augmentin 625 Duo Tablet  223.42            False   \n",
       "1   2       Azithral 500 Tablet  132.36            False   \n",
       "2   3          Ascoril LS Syrup  118.00            False   \n",
       "3   4      Allegra 120mg Tablet  218.81            False   \n",
       "4   5            Avil 25 Tablet   10.96            False   \n",
       "\n",
       "                      manufacturer_name       type         pack_size_label  \\\n",
       "0  Glaxo SmithKline Pharmaceuticals Ltd  allopathy     strip of 10 tablets   \n",
       "1           Alembic Pharmaceuticals Ltd  allopathy      strip of 5 tablets   \n",
       "2          Glenmark Pharmaceuticals Ltd  allopathy  bottle of 100 ml Syrup   \n",
       "3                     Sanofi India  Ltd  allopathy     strip of 10 tablets   \n",
       "4                     Sanofi India  Ltd  allopathy     strip of 15 tablets   \n",
       "\n",
       "      short_composition1          short_composition2  \\\n",
       "0  Amoxycillin  (500mg)      Clavulanic Acid (125mg)   \n",
       "1   Azithromycin (500mg)                         NaN   \n",
       "2   Ambroxol (30mg/5ml)    Levosalbutamol (1mg/5ml)    \n",
       "3   Fexofenadine (120mg)                         NaN   \n",
       "4     Pheniramine (25mg)                         NaN   \n",
       "\n",
       "                                    salt_composition  \\\n",
       "0    Amoxycillin  (500mg) +  Clavulanic Acid (125mg)   \n",
       "1                               Azithromycin (500mg)   \n",
       "2  Ambroxol (30mg/5ml) + Levosalbutamol (1mg/5ml)...   \n",
       "3                               Fexofenadine (120mg)   \n",
       "4                                 Pheniramine (25mg)   \n",
       "\n",
       "                                       medicine_desc  \\\n",
       "0  Augmentin 625 Duo Tablet is a penicillin-type ...   \n",
       "1  Azithral 500 Tablet is an antibiotic used to t...   \n",
       "2  Ascoril LS Syrup is a combination medicine use...   \n",
       "3  Allegra 120mg Tablet is an anti-allergy medici...   \n",
       "4  Avil 25 Tablet is an antiallergic medication u...   \n",
       "\n",
       "                                        side_effects  \\\n",
       "0                           Vomiting,Nausea,Diarrhea   \n",
       "1            Vomiting,Nausea,Abdominal pain,Diarrhea   \n",
       "2  Nausea,Vomiting,Diarrhea,Upset stomach,Stomach...   \n",
       "3               Headache,Drowsiness,Dizziness,Nausea   \n",
       "4                                         Sleepiness   \n",
       "\n",
       "                                   drug_interactions  \n",
       "0            {\"drug\": [], \"brand\": [], \"effect\": []}  \n",
       "1  {\"drug\": [\"Astemizole\", \"Ebastine\", \"Mizolasti...  \n",
       "2            {\"drug\": [], \"brand\": [], \"effect\": []}  \n",
       "3  {\"drug\": [\"Aprepitant\", \"Fosaprepitant\", \"Maga...  \n",
       "4  {\"drug\": [\"Zafirlukast\", \"Alprazolam\", \"Betahi...  "
      ]
     },
     "execution_count": 117,
     "metadata": {},
     "output_type": "execute_result"
    }
   ],
   "source": [
    "df.head()"
   ]
  },
  {
   "cell_type": "code",
   "execution_count": 118,
   "id": "6265afa4-2130-4202-85c2-9e8451957a32",
   "metadata": {},
   "outputs": [
    {
     "name": "stdout",
     "output_type": "stream",
     "text": [
      "<class 'pandas.core.frame.DataFrame'>\n",
      "RangeIndex: 253973 entries, 0 to 253972\n",
      "Data columns (total 13 columns):\n",
      " #   Column              Non-Null Count   Dtype  \n",
      "---  ------              --------------   -----  \n",
      " 0   id                  253973 non-null  int64  \n",
      " 1   name                253973 non-null  object \n",
      " 2   price               253973 non-null  float64\n",
      " 3   Is_discontinued     253973 non-null  bool   \n",
      " 4   manufacturer_name   253973 non-null  object \n",
      " 5   type                253973 non-null  object \n",
      " 6   pack_size_label     253973 non-null  object \n",
      " 7   short_composition1  253973 non-null  object \n",
      " 8   short_composition2  112171 non-null  object \n",
      " 9   salt_composition    7488 non-null    object \n",
      " 10  medicine_desc       7488 non-null    object \n",
      " 11  side_effects        7488 non-null    object \n",
      " 12  drug_interactions   7488 non-null    object \n",
      "dtypes: bool(1), float64(1), int64(1), object(10)\n",
      "memory usage: 23.5+ MB\n"
     ]
    }
   ],
   "source": [
    "df.info()"
   ]
  },
  {
   "cell_type": "code",
   "execution_count": 119,
   "id": "5a448b37-5f53-45d4-977d-d6485d5a2b90",
   "metadata": {},
   "outputs": [
    {
     "data": {
      "text/html": [
       "<div>\n",
       "<style scoped>\n",
       "    .dataframe tbody tr th:only-of-type {\n",
       "        vertical-align: middle;\n",
       "    }\n",
       "\n",
       "    .dataframe tbody tr th {\n",
       "        vertical-align: top;\n",
       "    }\n",
       "\n",
       "    .dataframe thead th {\n",
       "        text-align: right;\n",
       "    }\n",
       "</style>\n",
       "<table border=\"1\" class=\"dataframe\">\n",
       "  <thead>\n",
       "    <tr style=\"text-align: right;\">\n",
       "      <th></th>\n",
       "      <th>id</th>\n",
       "      <th>name</th>\n",
       "      <th>price</th>\n",
       "      <th>Is_discontinued</th>\n",
       "      <th>manufacturer_name</th>\n",
       "      <th>type</th>\n",
       "      <th>pack_size_label</th>\n",
       "      <th>short_composition1</th>\n",
       "      <th>short_composition2</th>\n",
       "      <th>salt_composition</th>\n",
       "      <th>medicine_desc</th>\n",
       "      <th>side_effects</th>\n",
       "      <th>drug_interactions</th>\n",
       "    </tr>\n",
       "  </thead>\n",
       "  <tbody>\n",
       "    <tr>\n",
       "      <th>253968</th>\n",
       "      <td>253969</td>\n",
       "      <td>Ziyapod 100mg Oral Suspension</td>\n",
       "      <td>62.3</td>\n",
       "      <td>False</td>\n",
       "      <td>Ziyana Lifesciences Pvt Ltd</td>\n",
       "      <td>allopathy</td>\n",
       "      <td>bottle of 30 ml Oral Suspension</td>\n",
       "      <td>Cefpodoxime Proxetil (100mg)</td>\n",
       "      <td>NaN</td>\n",
       "      <td>NaN</td>\n",
       "      <td>NaN</td>\n",
       "      <td>NaN</td>\n",
       "      <td>NaN</td>\n",
       "    </tr>\n",
       "    <tr>\n",
       "      <th>253969</th>\n",
       "      <td>253970</td>\n",
       "      <td>Zemhart 30mg Tablet</td>\n",
       "      <td>54.0</td>\n",
       "      <td>False</td>\n",
       "      <td>Leeford Healthcare Ltd</td>\n",
       "      <td>allopathy</td>\n",
       "      <td>strip of 10 tablets</td>\n",
       "      <td>Diltiazem (30mg)</td>\n",
       "      <td>NaN</td>\n",
       "      <td>NaN</td>\n",
       "      <td>NaN</td>\n",
       "      <td>NaN</td>\n",
       "      <td>NaN</td>\n",
       "    </tr>\n",
       "    <tr>\n",
       "      <th>253970</th>\n",
       "      <td>253971</td>\n",
       "      <td>Zivex 25mg Tablet</td>\n",
       "      <td>57.0</td>\n",
       "      <td>False</td>\n",
       "      <td>Euro Organics</td>\n",
       "      <td>allopathy</td>\n",
       "      <td>strip of 10 tablets</td>\n",
       "      <td>Hydroxyzine (25mg)</td>\n",
       "      <td>NaN</td>\n",
       "      <td>NaN</td>\n",
       "      <td>NaN</td>\n",
       "      <td>NaN</td>\n",
       "      <td>NaN</td>\n",
       "    </tr>\n",
       "    <tr>\n",
       "      <th>253971</th>\n",
       "      <td>253972</td>\n",
       "      <td>ZI Fast 500mg Injection</td>\n",
       "      <td>152.0</td>\n",
       "      <td>False</td>\n",
       "      <td>Burgeon Health Series Private Limited</td>\n",
       "      <td>allopathy</td>\n",
       "      <td>vial of 1 Injection</td>\n",
       "      <td>Azithromycin (500mg)</td>\n",
       "      <td>NaN</td>\n",
       "      <td>NaN</td>\n",
       "      <td>NaN</td>\n",
       "      <td>NaN</td>\n",
       "      <td>NaN</td>\n",
       "    </tr>\n",
       "    <tr>\n",
       "      <th>253972</th>\n",
       "      <td>253973</td>\n",
       "      <td>Zyvocol 1% Dusting Powder</td>\n",
       "      <td>110.0</td>\n",
       "      <td>False</td>\n",
       "      <td>GBK Healthcare</td>\n",
       "      <td>allopathy</td>\n",
       "      <td>bottle of 75 gm Dusting Powder</td>\n",
       "      <td>Clotrimazole (1% w/w)</td>\n",
       "      <td>NaN</td>\n",
       "      <td>NaN</td>\n",
       "      <td>NaN</td>\n",
       "      <td>NaN</td>\n",
       "      <td>NaN</td>\n",
       "    </tr>\n",
       "  </tbody>\n",
       "</table>\n",
       "</div>"
      ],
      "text/plain": [
       "            id                           name  price  Is_discontinued  \\\n",
       "253968  253969  Ziyapod 100mg Oral Suspension   62.3            False   \n",
       "253969  253970            Zemhart 30mg Tablet   54.0            False   \n",
       "253970  253971              Zivex 25mg Tablet   57.0            False   \n",
       "253971  253972        ZI Fast 500mg Injection  152.0            False   \n",
       "253972  253973      Zyvocol 1% Dusting Powder  110.0            False   \n",
       "\n",
       "                            manufacturer_name       type  \\\n",
       "253968            Ziyana Lifesciences Pvt Ltd  allopathy   \n",
       "253969                 Leeford Healthcare Ltd  allopathy   \n",
       "253970                          Euro Organics  allopathy   \n",
       "253971  Burgeon Health Series Private Limited  allopathy   \n",
       "253972                         GBK Healthcare  allopathy   \n",
       "\n",
       "                        pack_size_label            short_composition1  \\\n",
       "253968  bottle of 30 ml Oral Suspension  Cefpodoxime Proxetil (100mg)   \n",
       "253969              strip of 10 tablets              Diltiazem (30mg)   \n",
       "253970              strip of 10 tablets            Hydroxyzine (25mg)   \n",
       "253971              vial of 1 Injection          Azithromycin (500mg)   \n",
       "253972   bottle of 75 gm Dusting Powder         Clotrimazole (1% w/w)   \n",
       "\n",
       "       short_composition2 salt_composition medicine_desc side_effects  \\\n",
       "253968                NaN              NaN           NaN          NaN   \n",
       "253969                NaN              NaN           NaN          NaN   \n",
       "253970                NaN              NaN           NaN          NaN   \n",
       "253971                NaN              NaN           NaN          NaN   \n",
       "253972                NaN              NaN           NaN          NaN   \n",
       "\n",
       "       drug_interactions  \n",
       "253968               NaN  \n",
       "253969               NaN  \n",
       "253970               NaN  \n",
       "253971               NaN  \n",
       "253972               NaN  "
      ]
     },
     "execution_count": 119,
     "metadata": {},
     "output_type": "execute_result"
    }
   ],
   "source": [
    "df.tail()"
   ]
  },
  {
   "cell_type": "code",
   "execution_count": 120,
   "id": "3fb8c586-416f-4a43-94c2-d4db989dec73",
   "metadata": {},
   "outputs": [
    {
     "data": {
      "text/plain": [
       "id                         0\n",
       "name                       0\n",
       "price                      0\n",
       "Is_discontinued            0\n",
       "manufacturer_name          0\n",
       "type                       0\n",
       "pack_size_label            0\n",
       "short_composition1         0\n",
       "short_composition2    141802\n",
       "salt_composition      246485\n",
       "medicine_desc         246485\n",
       "side_effects          246485\n",
       "drug_interactions     246485\n",
       "dtype: int64"
      ]
     },
     "execution_count": 120,
     "metadata": {},
     "output_type": "execute_result"
    }
   ],
   "source": [
    "df.isnull().sum()"
   ]
  },
  {
   "cell_type": "markdown",
   "id": "2c210bb5-7df7-453d-b263-055a5bbb9924",
   "metadata": {},
   "source": [
    "#### Merging"
   ]
  },
  {
   "cell_type": "code",
   "execution_count": 121,
   "id": "1c50b68a-e98c-4d81-87a4-eea4ef8b1808",
   "metadata": {},
   "outputs": [],
   "source": [
    "# Removing rows with all missing values\n",
    "df = df.dropna(how='all')"
   ]
  },
  {
   "cell_type": "code",
   "execution_count": 122,
   "id": "f004314c-cb92-450b-a2df-45e9df90295c",
   "metadata": {},
   "outputs": [],
   "source": [
    "# Merge 'price' and 'pack_size_label' into a single column\n",
    "df[\"price_pack\"] = \"Rs \" + df[\"price\"].astype(str) + \" for \" + df[\"pack_size_label\"]"
   ]
  },
  {
   "cell_type": "code",
   "execution_count": 123,
   "id": "7757f58e-55bc-45d6-8ab6-50aad92b4ab1",
   "metadata": {},
   "outputs": [
    {
     "data": {
      "text/plain": [
       "(253973, 14)"
      ]
     },
     "execution_count": 123,
     "metadata": {},
     "output_type": "execute_result"
    }
   ],
   "source": [
    "df.shape"
   ]
  },
  {
   "cell_type": "code",
   "execution_count": 124,
   "id": "c203a803-59fc-46e7-9fd3-d96109732c0a",
   "metadata": {},
   "outputs": [],
   "source": [
    "df[['short_composition1', 'short_composition2', 'salt_composition']] = df[['short_composition1', 'short_composition2', 'salt_composition']].fillna(\"Not Available\").astype(str)\n",
    "\n",
    "# Apply function to merge values, keeping only meaningful data\n",
    "df[\"composition\"] = df[['short_composition1', 'short_composition2', 'salt_composition']].apply(\n",
    "    lambda x: ', '.join(x[x != \"Not Available\"].astype(str)) if any(x != \"Not Available\") else \"Not Available\", axis=1\n",
    ")"
   ]
  },
  {
   "cell_type": "code",
   "execution_count": 125,
   "id": "c58c3aa9-02ca-437f-b796-f5a6307dc099",
   "metadata": {},
   "outputs": [
    {
     "data": {
      "text/plain": [
       "(253973, 15)"
      ]
     },
     "execution_count": 125,
     "metadata": {},
     "output_type": "execute_result"
    }
   ],
   "source": [
    "df.shape"
   ]
  },
  {
   "cell_type": "markdown",
   "id": "ddf551b2-3bc0-4783-9db9-54b11528b77b",
   "metadata": {},
   "source": [
    "#### Dropping unwanted attributes & rows"
   ]
  },
  {
   "cell_type": "code",
   "execution_count": 126,
   "id": "acd56425-c731-40af-be31-0911664e798f",
   "metadata": {},
   "outputs": [],
   "source": [
    "columns_to_drop = [\n",
    "    \"id\", \"Is_discontinued\", \"type\", \"price\", \"pack_size_label\", \"short_composition1\", \"short_composition2\", \"salt_composition\" \n",
    "]"
   ]
  },
  {
   "cell_type": "code",
   "execution_count": 127,
   "id": "33086c45-95ad-413b-93fd-8d17ea91aaaf",
   "metadata": {},
   "outputs": [],
   "source": [
    "df = df.drop(columns=columns_to_drop)"
   ]
  },
  {
   "cell_type": "code",
   "execution_count": 128,
   "id": "e33d1f65-638c-416a-ae65-e7254e9b5ab0",
   "metadata": {},
   "outputs": [
    {
     "data": {
      "text/plain": [
       "(253973, 7)"
      ]
     },
     "execution_count": 128,
     "metadata": {},
     "output_type": "execute_result"
    }
   ],
   "source": [
    "df.shape"
   ]
  },
  {
   "cell_type": "code",
   "execution_count": 129,
   "id": "ba74f5a3-d81f-4001-be52-ce40b7c5dce5",
   "metadata": {},
   "outputs": [
    {
     "data": {
      "text/plain": [
       "(253973, 7)"
      ]
     },
     "execution_count": 129,
     "metadata": {},
     "output_type": "execute_result"
    }
   ],
   "source": [
    "df.shape"
   ]
  },
  {
   "cell_type": "code",
   "execution_count": 130,
   "id": "183e0e09-f50e-4140-8452-32a98b4f176c",
   "metadata": {},
   "outputs": [],
   "source": [
    "# Replace NaN values with \"Not Available\"\n",
    "df.fillna(\"Not Available\", inplace=True)"
   ]
  },
  {
   "cell_type": "markdown",
   "id": "7bdce503-d60a-4714-b24d-e396b0ed88d6",
   "metadata": {},
   "source": [
    "#### Renaming attributes"
   ]
  },
  {
   "cell_type": "code",
   "execution_count": 131,
   "id": "e0017a92-d3b3-4429-a75e-fffeb08484eb",
   "metadata": {},
   "outputs": [],
   "source": [
    "# Rename columns appropriately\n",
    "df.rename(columns={\n",
    "    \"name\": \"Medicine Name\",\n",
    "    \"manufacturer_name\": \"Brand\",\n",
    "    \"medicine_desc\": \"Description\",\n",
    "    \"side_effects\": \"Side Effects\",\n",
    "    \"drug_interactions\": \"Drug Interactions\",\n",
    "    \"composition\": \"Active Ingredients\",\n",
    "    \"price_pack\": \"Cost\"\n",
    "}, inplace=True)"
   ]
  },
  {
   "cell_type": "code",
   "execution_count": 132,
   "id": "b4464877-3320-4a08-81ea-b929b0cf824c",
   "metadata": {},
   "outputs": [],
   "source": [
    "# Save the cleaned dataset\n",
    "df.to_csv(\"indian_medicine_data_cleaned.csv\", index=False)"
   ]
  },
  {
   "cell_type": "code",
   "execution_count": null,
   "id": "dd2343c7-170b-48a8-b6a0-c36e59da9a8c",
   "metadata": {},
   "outputs": [],
   "source": []
  }
 ],
 "metadata": {
  "kernelspec": {
   "display_name": "Python 3 (ipykernel)",
   "language": "python",
   "name": "python3"
  },
  "language_info": {
   "codemirror_mode": {
    "name": "ipython",
    "version": 3
   },
   "file_extension": ".py",
   "mimetype": "text/x-python",
   "name": "python",
   "nbconvert_exporter": "python",
   "pygments_lexer": "ipython3",
   "version": "3.12.1"
  }
 },
 "nbformat": 4,
 "nbformat_minor": 5
}
